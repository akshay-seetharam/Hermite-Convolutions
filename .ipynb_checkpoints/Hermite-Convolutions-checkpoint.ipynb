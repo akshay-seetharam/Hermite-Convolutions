{
 "cells": [
  {
   "cell_type": "code",
   "execution_count": null,
   "id": "58ed7a62",
   "metadata": {},
   "outputs": [],
   "source": [
    "# Just testing my github setup\n",
    "print('Hello World')"
   ]
  },
  {
   "cell_type": "code",
   "execution_count": null,
   "id": "364b9a68",
   "metadata": {},
   "outputs": [],
   "source": [
    "#yo this is abi\n",
    "print ('coding is sadge')"
   ]
  },
  {
   "cell_type": "code",
   "execution_count": null,
   "id": "b5014a7b",
   "metadata": {},
   "outputs": [],
   "source": [
    "#help i don't know what i'm doing"
   ]
  },
  {
   "cell_type": "markdown",
   "id": "830da4d4",
   "metadata": {},
   "source": [
    "# Hermite Polynomials\n",
    "Hermite Polynomials are an orthonormal basis of the function space defined recursively by$$h_{k+1}x = \\left[\\left(x-\\frac{d}{dx}\\right)h_{k}x\\right](x);$$the following function generates the Hermite Polynomials up to a degree determined by the user."
   ]
  },
  {
   "cell_type": "code",
   "execution_count": null,
   "id": "8153396e",
   "metadata": {},
   "outputs": [],
   "source": [
    "def hermite(degree: int):\n",
    "    \"\"\"\n",
    "    Returns Hermite polynomials up to degree ``degree``;a\n",
    "        Hermite polynomials defined recursively by h_{k+1}x = [(x - d/dx)h_{k}x](x)\n",
    "    Polynomials are vectors (lists) whose indices correspond to the exponent of that term, e.g. [1, 0, 2, 4]\n",
    "        represents 1 + x^2 + 4x^3\n",
    "    TODO: Use sympy to actually handle functions correctly\n",
    "    \"\"\"\n",
    "    polynomials = [[1], [0, 1]]\n",
    "    i = 2\n",
    "    while i < degree:\n",
    "        pprint('----------')\n",
    "        pprint(f'i = {i}')\n",
    "        next_polynomial = [0] * (i + 1)\n",
    "        for j in range(i + 1):\n",
    "            pprint(f'j = {j}')\n",
    "            if j != 0:\n",
    "                next_polynomial[j] += polynomials[-1][j - 1] # x*h_k(x)\n",
    "                pprint('multiplying by x')\n",
    "                pprint(f'{polynomials[-1][j - 1]}x^{j}')\n",
    "            if j + 1 < len(polynomials[-1]):\n",
    "                next_polynomial[j] -= polynomials[-1][j + 1] * (j + 1) # -d/dx h_k(x)\n",
    "                pprint('differentiating')\n",
    "                pprint(f'-{polynomials[-1][j + 1] * (j)}x^{j + 1}')\n",
    "            else:    \n",
    "                print(f'Done with Hermite polynomial with degree {i}')\n",
    "        polynomials.append(next_polynomial)\n",
    "        i += 1\n",
    "    return polynomials"
   ]
  },
  {
   "cell_type": "code",
   "execution_count": null,
   "id": "207b11f5",
   "metadata": {},
   "outputs": [],
   "source": [
    "from matplotlib import pyplot as plt\n",
    "from rich.pretty import pprint\n",
    "hermite_10 = hermite(10)\n",
    "plt.plot(hermite_10)\n",
    "plt.show()"
   ]
  }
 ],
 "metadata": {
  "kernelspec": {
   "display_name": "Python 3 (ipykernel)",
   "language": "python",
   "name": "python3"
  },
  "language_info": {
   "codemirror_mode": {
    "name": "ipython",
    "version": 3
   },
   "file_extension": ".py",
   "mimetype": "text/x-python",
   "name": "python",
   "nbconvert_exporter": "python",
   "pygments_lexer": "ipython3",
   "version": "3.9.10"
  }
 },
 "nbformat": 4,
 "nbformat_minor": 5
}
