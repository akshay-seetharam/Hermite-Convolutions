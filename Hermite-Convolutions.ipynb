{
 "cells": [
  {
   "cell_type": "code",
   "execution_count": 2,
   "id": "58ed7a62",
   "metadata": {
    "pycharm": {
     "name": "#%%\n"
    }
   },
   "outputs": [
    {
     "name": "stdout",
     "output_type": "stream",
     "text": [
      "Hello World\n"
     ]
    }
   ],
   "source": [
    "# Just testing my github setup\n",
    "print('Hello World')"
   ]
  },
  {
   "cell_type": "code",
   "execution_count": null,
   "outputs": [],
   "source": [
    "#yo this is abi\n",
    "print ('coding is sadge')"
   ],
   "metadata": {
    "collapsed": false,
    "pycharm": {
     "name": "#%%\n"
    }
   }
  },
  {
   "cell_type": "code",
   "execution_count": null,
   "outputs": [],
   "source": [
    "#help i don't know what i'm doing"
   ],
   "metadata": {
    "collapsed": false,
    "pycharm": {
     "name": "#%%\n"
    }
   }
  },
  {
   "cell_type": "markdown",
   "source": [
    "# Hermite Polynomials\n",
    "Hermite Polynomials are an orthonormal basis of the function space defined recursively by$$h_{k+1}x = \\left[\\left(x-\\frac{d}{dx}\\right)h_{k}x\\right](x);$$the following function generates the Hermite Polynomials up to a degree determined by the user. For instance, $$h_1(x) = \\left[\\left(x-\\frac{\\text{d}}{\\text{dx}}\\right)h_0(x)\\right]$$ $$= \\left[x(1)-\\frac{\\text{d}}{\\text{dx}}1\\right]$$$$= x$$ Likewise, $$h_2(x) = x^2 - 1$$ and so on and so forth."
   ],
   "metadata": {
    "collapsed": false,
    "pycharm": {
     "name": "#%% md\n"
    }
   }
  },
  {
   "cell_type": "code",
   "execution_count": null,
   "outputs": [],
   "source": [
    "from matplotlib import pyplot as plt\n",
    "from rich.pretty import pprint\n",
    "import numpy as np\n",
    "from math import exp\n",
    "from tqdm import tqdm\n",
    "import time\n",
    "\n",
    "def hermite(degree: int):\n",
    "    \"\"\"\n",
    "    Returns Hermite polynomials up to degree ``degree``;a\n",
    "        Hermite polynomials defined recursively by h_{k+1}x = [(x - d/dx)h_{k}x](x)\n",
    "    Polynomials are vectors (lists) whose indices correspond to the exponent of that term, e.g. [1, 0, 2, 4]\n",
    "        represents 1 + x^2 + 4x^3\n",
    "    TODO: Use sympy to actually handle functions correctly\n",
    "    \"\"\"\n",
    "    polynomials = [[1], [0, 1]]\n",
    "    i = 2\n",
    "    while i < degree:\n",
    "        # pprint('----------')\n",
    "        # pprint(f'i = {i}')\n",
    "        next_polynomial = [0] * (i + 1)\n",
    "        for j in range(i + 1):\n",
    "            # pprint(f'j = {j}')\n",
    "            if j != 0:\n",
    "                next_polynomial[j] += polynomials[-1][j - 1] # x*h_k(x)\n",
    "                # pprint('multiplying by x')\n",
    "                # pprint(f'{polynomials[-1][j - 1]}x^{j}')\n",
    "            if j + 1 < len(polynomials[-1]):\n",
    "                next_polynomial[j] -= polynomials[-1][j + 1] * (j + 1) # -d/dx h_k(x)\n",
    "                # pprint('differentiating')\n",
    "                # pprint(f'-{polynomials[-1][j + 1] * (j)}x^{j + 1}')\n",
    "            # else:    \n",
    "                # print(f'Done with Hermite polynomial with degree {i}')\n",
    "        polynomials.append(next_polynomial)\n",
    "        # pprint(f'Done with Hermite polynomial with degree {i}')\n",
    "        i += 1\n",
    "    return polynomials\n",
    "\n",
    "def sigmoid(x):\n",
    "    # print(x)\n",
    "    try:\n",
    "        return 1.0 / (1.0 + exp(-1 * x))\n",
    "    except:\n",
    "        return 0 if x < 0 else 1\n",
    "\n",
    "degree = 100\n",
    "hermites = hermite(degree)\n",
    "plottable_polynomials = np.zeros((degree, degree))\n",
    "i = 0\n",
    "while i < plottable_polynomials.shape[0]:\n",
    "    j = 0\n",
    "    while j < plottable_polynomials.shape[1]:\n",
    "        break_j = False\n",
    "        try:\n",
    "            plottable_polynomials[i][j] = hermites[i][j]\n",
    "        except IndexError:\n",
    "            break_j = True\n",
    "        finally:\n",
    "            j += 1\n",
    "        if break_j:\n",
    "            break\n",
    "    i += 1\n",
    "plt.imshow([[sigmoid(y) for y in x] for x in plottable_polynomials], cmap=plt.cm.viridis, alpha=.75,\n",
    "           interpolation='bilinear')\n",
    "plt.colorbar()\n",
    "plt.title(\"Normalized Polynomial Coefficients\")\n",
    "plt.ylabel(\"Degree of Polynomial\")\n",
    "plt.xlabel(\"Exponent of Term\")\n",
    "plt.show()"
   ],
   "metadata": {
    "collapsed": false,
    "pycharm": {
     "name": "#%%\n"
    }
   }
  },
  {
   "cell_type": "markdown",
   "source": [
    "# Orthonormal Basis\n",
    "As we can see, each subsequent polynomial adds one degree; this occurs because of the multiplication by $x$ to generate each polynomial recursively. Because any sequence of polynomials with increasing degree up to $m$ forms a basis of $\\mathcal{P}_m(\\mathbb{F})$, we can conclude that the Hermite polynomials form a basis of the infinite-dimensional $\\mathcal{P}_n(\\mathbb{F})$. To test if they are orthonormal, we confirm that the pairwise inner products of the Hermite polynomials are 0. The inner product is defined as $$\\langle f, g \\rangle = \\int_{-\\infty}^{\\infty} f(x)g(x)e^{-\\frac{x^2}{2}}\\,\\text{d}x.$$"
   ],
   "metadata": {
    "collapsed": false,
    "pycharm": {
     "name": "#%% md\n"
    }
   }
  },
  {
   "cell_type": "code",
   "execution_count": null,
   "outputs": [],
   "source": [
    "from scipy.integrate import quad\n",
    "\n",
    "# integral = quad(integrand1,-np.inf,np.inf)\n",
    "\n",
    "def polynomify(coeffs):\n",
    "    f = lambda x: sum([value * x**count for count, value in enumerate(coeffs)])\n",
    "    return f\n",
    "\n",
    "def prod(*args):\n",
    "    result = 1\n",
    "    for fn in args:\n",
    "        result *= fn\n",
    "        \n",
    "fns = [polynomify(i) for i in hermites]\n",
    "x = np.linspace(-1, 1, 1000)\n",
    "fns_plotted = [[fn(i) for fn in fns] for i in x]\n",
    "plt.plot(fns_plotted)\n",
    "plt.yscale('log')\n",
    "plt.title('Hermite Polynomials Plotted on Logarithmic Scale')\n",
    "plt.show()\n",
    "\n",
    "# i = 0\n",
    "\n",
    "# while i < len(hermites):\n",
    "#     j = i + 1\n",
    "#     while j < len(hermites):\n",
    "#         print(f'$\\\\langle h_{i}, h_{j} \\\\rangle = {quad(prod(polynomify(hermites[i]), polynomify(hermites[j])), -np.inf, np.inf)}$')"
   ],
   "metadata": {
    "collapsed": false,
    "pycharm": {
     "name": "#%%\n"
    }
   }
  },
  {
   "cell_type": "code",
   "execution_count": null,
   "outputs": [],
   "source": [],
   "metadata": {
    "collapsed": false,
    "pycharm": {
     "name": "#%%\n"
    }
   }
  },
  {
   "cell_type": "code",
   "execution_count": 6,
   "outputs": [],
   "source": [],
   "metadata": {
    "collapsed": false,
    "pycharm": {
     "name": "#%%\n"
    }
   }
  },
  {
   "cell_type": "code",
   "execution_count": 6,
   "outputs": [],
   "source": [],
   "metadata": {
    "collapsed": false,
    "pycharm": {
     "name": "#%%\n"
    }
   }
  }
 ],
 "metadata": {
  "kernelspec": {
   "display_name": "Python 3 (ipykernel)",
   "language": "python",
   "name": "python3"
  },
  "language_info": {
   "codemirror_mode": {
    "name": "ipython",
    "version": 3
   },
   "file_extension": ".py",
   "mimetype": "text/x-python",
   "name": "python",
   "nbconvert_exporter": "python",
   "pygments_lexer": "ipython3",
   "version": "3.9.10"
  }
 },
 "nbformat": 4,
 "nbformat_minor": 5
}